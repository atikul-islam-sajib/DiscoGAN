{
 "cells": [
  {
   "cell_type": "code",
   "execution_count": 2,
   "metadata": {},
   "outputs": [],
   "source": [
    "import sys\n",
    "import os\n",
    "import yaml\n",
    "import zipfile\n",
    "import cv2\n",
    "import matplotlib.pyplot as plt\n",
    "from PIL import Image"
   ]
  },
  {
   "cell_type": "code",
   "execution_count": null,
   "metadata": {},
   "outputs": [],
   "source": [
    "class Loader():\n",
    "    def __init__(self, image_path = None, image_size = 256, channels = 3, batch_size = 1, split_size = 0.20, **kwargs):\n",
    "        self.image_path = image_path\n",
    "        self.image_size = image_size\n",
    "        self.channels = channels\n",
    "        self.batch_size = batch_size\n",
    "        self.split_size = split_size\n",
    "        self.paired_image = kwargs[\"paired_images\"]\n",
    "        self.unpaired_image = kwargs[\"unpaired_images\"]\n",
    "        \n",
    "        \n",
    "    def transforms(self):\n",
    "        pass\n",
    "    \n",
    "    def data_split(self):\n",
    "        pass\n",
    "    \n",
    "    def image_info(self):\n",
    "        pass\n",
    "    \n",
    "    def unzip_folder(self):\n",
    "        pass\n",
    "    \n",
    "    def extract_features(self):\n",
    "        pass\n",
    "    \n",
    "    def create_dataloader(self):\n",
    "        pass\n",
    "    \n",
    "    \n",
    "    @staticmethod\n",
    "    def plot_images():\n",
    "        pass\n",
    "    \n",
    "    def dataset_details():\n",
    "        pass    "
   ]
  }
 ],
 "metadata": {
  "kernelspec": {
   "display_name": "GPSG",
   "language": "python",
   "name": "python3"
  },
  "language_info": {
   "codemirror_mode": {
    "name": "ipython",
    "version": 3
   },
   "file_extension": ".py",
   "mimetype": "text/x-python",
   "name": "python",
   "nbconvert_exporter": "python",
   "pygments_lexer": "ipython3",
   "version": "3.9.18"
  }
 },
 "nbformat": 4,
 "nbformat_minor": 2
}
